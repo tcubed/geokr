{
 "cells": [
  {
   "cell_type": "markdown",
   "id": "8e0a5d2b",
   "metadata": {},
   "source": [
    "# Reshape Images"
   ]
  },
  {
   "cell_type": "code",
   "execution_count": 3,
   "id": "973ecf86",
   "metadata": {},
   "outputs": [],
   "source": [
    "import os\n",
    "import glob\n",
    "import cv2"
   ]
  },
  {
   "cell_type": "code",
   "execution_count": 5,
   "id": "7ab4f946",
   "metadata": {},
   "outputs": [],
   "source": [
    "pnproj=r'C:\\Users\\Ted\\OneDrive\\Documents\\Projects\\geokr\\act2\\app\\static\\images\\kcneenah'\n",
    "pnsrc=os.path.join(pnproj,'orig')\n",
    "pndst=os.path.join(pnproj,'proc')\n"
   ]
  },
  {
   "cell_type": "code",
   "execution_count": 6,
   "id": "8064407e",
   "metadata": {},
   "outputs": [
    {
     "name": "stdout",
     "output_type": "stream",
     "text": [
      "Processing C:\\Users\\Ted\\OneDrive\\Documents\\Projects\\geokr\\act2\\app\\static\\images\\kcneenah\\orig\\alcove.jpg to C:\\Users\\Ted\\OneDrive\\Documents\\Projects\\geokr\\act2\\app\\static\\images\\kcneenah\\proc\\alcove.jpg\n",
      "Processing C:\\Users\\Ted\\OneDrive\\Documents\\Projects\\geokr\\act2\\app\\static\\images\\kcneenah\\orig\\bench1.jpg to C:\\Users\\Ted\\OneDrive\\Documents\\Projects\\geokr\\act2\\app\\static\\images\\kcneenah\\proc\\bench1.jpg\n",
      "Processing C:\\Users\\Ted\\OneDrive\\Documents\\Projects\\geokr\\act2\\app\\static\\images\\kcneenah\\orig\\bench2.jpg to C:\\Users\\Ted\\OneDrive\\Documents\\Projects\\geokr\\act2\\app\\static\\images\\kcneenah\\proc\\bench2.jpg\n",
      "Processing C:\\Users\\Ted\\OneDrive\\Documents\\Projects\\geokr\\act2\\app\\static\\images\\kcneenah\\orig\\bridge1.jpg to C:\\Users\\Ted\\OneDrive\\Documents\\Projects\\geokr\\act2\\app\\static\\images\\kcneenah\\proc\\bridge1.jpg\n",
      "Processing C:\\Users\\Ted\\OneDrive\\Documents\\Projects\\geokr\\act2\\app\\static\\images\\kcneenah\\orig\\bridge2.jpg to C:\\Users\\Ted\\OneDrive\\Documents\\Projects\\geokr\\act2\\app\\static\\images\\kcneenah\\proc\\bridge2.jpg\n",
      "Processing C:\\Users\\Ted\\OneDrive\\Documents\\Projects\\geokr\\act2\\app\\static\\images\\kcneenah\\orig\\bush.jpg to C:\\Users\\Ted\\OneDrive\\Documents\\Projects\\geokr\\act2\\app\\static\\images\\kcneenah\\proc\\bush.jpg\n",
      "Processing C:\\Users\\Ted\\OneDrive\\Documents\\Projects\\geokr\\act2\\app\\static\\images\\kcneenah\\orig\\country_road.jpg to C:\\Users\\Ted\\OneDrive\\Documents\\Projects\\geokr\\act2\\app\\static\\images\\kcneenah\\proc\\country_road.jpg\n",
      "Processing C:\\Users\\Ted\\OneDrive\\Documents\\Projects\\geokr\\act2\\app\\static\\images\\kcneenah\\orig\\cyan.jpg to C:\\Users\\Ted\\OneDrive\\Documents\\Projects\\geokr\\act2\\app\\static\\images\\kcneenah\\proc\\cyan.jpg\n",
      "Processing C:\\Users\\Ted\\OneDrive\\Documents\\Projects\\geokr\\act2\\app\\static\\images\\kcneenah\\orig\\fork.jpg to C:\\Users\\Ted\\OneDrive\\Documents\\Projects\\geokr\\act2\\app\\static\\images\\kcneenah\\proc\\fork.jpg\n",
      "Processing C:\\Users\\Ted\\OneDrive\\Documents\\Projects\\geokr\\act2\\app\\static\\images\\kcneenah\\orig\\grove.jpg to C:\\Users\\Ted\\OneDrive\\Documents\\Projects\\geokr\\act2\\app\\static\\images\\kcneenah\\proc\\grove.jpg\n",
      "Processing C:\\Users\\Ted\\OneDrive\\Documents\\Projects\\geokr\\act2\\app\\static\\images\\kcneenah\\orig\\house.jpg to C:\\Users\\Ted\\OneDrive\\Documents\\Projects\\geokr\\act2\\app\\static\\images\\kcneenah\\proc\\house.jpg\n",
      "Processing C:\\Users\\Ted\\OneDrive\\Documents\\Projects\\geokr\\act2\\app\\static\\images\\kcneenah\\orig\\IMG_5570.jpg to C:\\Users\\Ted\\OneDrive\\Documents\\Projects\\geokr\\act2\\app\\static\\images\\kcneenah\\proc\\IMG_5570.jpg\n",
      "Processing C:\\Users\\Ted\\OneDrive\\Documents\\Projects\\geokr\\act2\\app\\static\\images\\kcneenah\\orig\\patio.jpg to C:\\Users\\Ted\\OneDrive\\Documents\\Projects\\geokr\\act2\\app\\static\\images\\kcneenah\\proc\\patio.jpg\n",
      "Processing C:\\Users\\Ted\\OneDrive\\Documents\\Projects\\geokr\\act2\\app\\static\\images\\kcneenah\\orig\\planters.jpg to C:\\Users\\Ted\\OneDrive\\Documents\\Projects\\geokr\\act2\\app\\static\\images\\kcneenah\\proc\\planters.jpg\n",
      "Processing C:\\Users\\Ted\\OneDrive\\Documents\\Projects\\geokr\\act2\\app\\static\\images\\kcneenah\\orig\\sign1.jpg to C:\\Users\\Ted\\OneDrive\\Documents\\Projects\\geokr\\act2\\app\\static\\images\\kcneenah\\proc\\sign1.jpg\n",
      "Processing C:\\Users\\Ted\\OneDrive\\Documents\\Projects\\geokr\\act2\\app\\static\\images\\kcneenah\\orig\\stump.jpg to C:\\Users\\Ted\\OneDrive\\Documents\\Projects\\geokr\\act2\\app\\static\\images\\kcneenah\\proc\\stump.jpg\n",
      "Processing C:\\Users\\Ted\\OneDrive\\Documents\\Projects\\geokr\\act2\\app\\static\\images\\kcneenah\\orig\\wolf.jpg to C:\\Users\\Ted\\OneDrive\\Documents\\Projects\\geokr\\act2\\app\\static\\images\\kcneenah\\proc\\wolf.jpg\n",
      "Processing C:\\Users\\Ted\\OneDrive\\Documents\\Projects\\geokr\\act2\\app\\static\\images\\kcneenah\\orig\\yellow.jpg to C:\\Users\\Ted\\OneDrive\\Documents\\Projects\\geokr\\act2\\app\\static\\images\\kcneenah\\proc\\yellow.jpg\n"
     ]
    }
   ],
   "source": [
    "for li in os.listdir(pnsrc):\n",
    "    if li.endswith('.jpg'):\n",
    "        src=os.path.join(pnsrc,li)\n",
    "        dst=os.path.join(pndst,li)\n",
    "        print(f'Processing {src} to {dst}')\n",
    "        img=cv2.imread(src)\n",
    "        if img is not None:\n",
    "            img=cv2.resize(img,(240,320),interpolation=cv2.INTER_AREA)\n",
    "            cv2.imwrite(dst,img)\n",
    "        else:\n",
    "            print(f'Failed to read image {src}')"
   ]
  }
 ],
 "metadata": {
  "kernelspec": {
   "display_name": "py311",
   "language": "python",
   "name": "python3"
  },
  "language_info": {
   "codemirror_mode": {
    "name": "ipython",
    "version": 3
   },
   "file_extension": ".py",
   "mimetype": "text/x-python",
   "name": "python",
   "nbconvert_exporter": "python",
   "pygments_lexer": "ipython3",
   "version": "3.11.11"
  }
 },
 "nbformat": 4,
 "nbformat_minor": 5
}
